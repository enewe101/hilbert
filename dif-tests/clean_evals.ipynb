{
 "cells": [
  {
   "cell_type": "code",
   "execution_count": 1,
   "metadata": {},
   "outputs": [],
   "source": [
    "import csv\n",
    "import matplotlib.pyplot as plt\n",
    "import numpy as np\n",
    "from os import listdir\n",
    "import operator"
   ]
  },
  {
   "cell_type": "code",
   "execution_count": 2,
   "metadata": {},
   "outputs": [],
   "source": [
    "def find_fnames(match):\n",
    "    base = '/home/rldata/hilbert-embeddings/embeddings/diffusion-hilbert/'\n",
    "    dirs = listdir(base)\n",
    "    matched_dirs= [ d for d in dirs if match in d]\n",
    "    matched_dirs = [ base + d +  \"/iter-\" + str(int(d.split('-')[4].lstrip('I')) * 100) + \"/similarity_1.txt\" for d in matched_dirs]\n",
    "    sizes = [int(d.split('/')[6].split('-')[0].split('.')[1]) for d in matched_dirs]\n",
    "    \n",
    "    sorted_dirs = sorted(zip(matched_dirs, sizes), key=operator.itemgetter(1))\n",
    "    return list(list(zip(*sorted_dirs))[0])"
   ]
  },
  {
   "cell_type": "code",
   "execution_count": 3,
   "metadata": {},
   "outputs": [],
   "source": [
    "def get_data(fname): \n",
    "    ...:     data = [] \n",
    "    ...:     with open(fname) as csv_file: \n",
    "    ...:         csv_reader = csv.reader(csv_file, delimiter=',') \n",
    "    ...:         line_count = 0 \n",
    "    ...:         for row in csv_reader: \n",
    "    ...:             if line_count == 12: \n",
    "    ...:                 break \n",
    "    ...:             if line_count == 0: \n",
    "    ...:                 test_names = row \n",
    "    ...:                 line_count += 1 \n",
    "    ...:             else: \n",
    "    ...:                 data.append(row) \n",
    "    ...:                 line_count += 1 \n",
    "    ...:     return test_names, data "
   ]
  },
  {
   "cell_type": "code",
   "execution_count": 4,
   "metadata": {},
   "outputs": [],
   "source": [
    "def print_table(match, isPrint=True, rounding=3):\n",
    "    dirnames = find_fnames(match)\n",
    "    all_mle = [get_data(d) for d in dirnames]\n",
    "    dsnames = ['simlex999', 'rarewords', 'bakerverb143', 'men_dev',\n",
    "          'radinskymturk', 'wordsim353_similarity', 'yangpowersverb130',\n",
    "          'men_test', 'semeval17task2_test', 'wordsim353_relatedness',\n",
    "          'simverb3500']\n",
    "    dsnames_shortened = ['simlex', 'rarewords', 'baker', 'men-dev', \n",
    "                        'radins', 'word-sim', 'yang', 'men-test', \n",
    "                        'semeval', 'word-rel', 'simverb']\n",
    "    lines = []\n",
    "    allscores = []\n",
    "    for j,dname in enumerate(dsnames):\n",
    "        line = dsnames_shortened[j]\n",
    "        scores= []\n",
    "        for data in all_mle:\n",
    "            cc_index = 0\n",
    "            for i,t in enumerate(data[0]):\n",
    "                if t == \"covered-spearman\":\n",
    "                    cc_index = i\n",
    "\n",
    "            for d in data[1]:\n",
    "                if d[0] == dname:\n",
    "                    score = round(float(d[cc_index]),rounding)\n",
    "                    line += \" & \" + str(score) + \" \"\n",
    "                    scores.append(score)\n",
    "        lines.append(line + \"\\\\\\\\\\n\")\n",
    "        allscores.append(scores)\n",
    "    if isPrint:\n",
    "        print(\n",
    "    \"\"\"\n",
    "        \\\\begin{table}[H]\n",
    "    \\centering\n",
    "    \\caption{}\n",
    "    \\\\begin{tabularx}{\\\\textwidth}{X|X|X|X|X|X|X|X|X}\n",
    "        test name & 1/8 & 1/32 & 1/128 & 1/512 & 1/2048 & 1/4096 & 1/8192 & 1/16384\\\\\\\\\n",
    "        \\hline\n",
    "        \"\"\")\n",
    "        for l in lines:\n",
    "            print(l)\n",
    "        print(\"\"\"\n",
    "              \\end{tabularx}\n",
    "              \\end{table}\"\"\")\n",
    "    return allscores\n"
   ]
  },
  {
   "cell_type": "code",
   "execution_count": 5,
   "metadata": {},
   "outputs": [],
   "source": [
    "def print_diff_table(match1, match2, rounding=3):\n",
    "    dsnames_shortened = ['simlex', 'rarewords', 'baker', 'men-dev', \n",
    "                    'radins', 'word-sim', 'yang', 'men-test', \n",
    "                    'semeval', 'word-rel', 'simverb']\n",
    "    scores1 = print_table(match1, False)\n",
    "    scores2 = print_table(match2, False)\n",
    "    diff = np.array(scores1) - np.array(scores2)\n",
    "        \n",
    "    last_row = np.sum((diff < 0).astype(int), axis=0)\n",
    "    lines = []\n",
    "    for i,d in enumerate(diff):\n",
    "        line = dsnames_shortened[i]\n",
    "        for s in d:\n",
    "            score = round(float(s),rounding)\n",
    "            if score >= 0:\n",
    "                line += \" & \" + str(score)\n",
    "            else:\n",
    "                line += \" & \\\\textbf{\" + str(score)+\"}\"\n",
    "        lines.append(line)\n",
    "        lines.append(\"\\\\\\\\\\n\")\n",
    "    \n",
    "    final_line = \"\\hline \\n Bolded\" \n",
    "    for l in last_row:\n",
    "        final_line += \" & \" + str(l) + \"/11\" \n",
    "    final_line += \"\\\\\\\\\"\n",
    "    lines.append(final_line)\n",
    "        \n",
    "    print(\n",
    "    \"\"\"\n",
    "        \\\\begin{table}[H]\n",
    "    \\centering\n",
    "    \\caption{}\n",
    "    \\\\begin{tabularx}{\\\\textwidth}{X|X|X|X|X|X|X|X|X}\n",
    "        test name & 1/8 & 1/32 & 1/128 & 1/512 & 1/2048 & 1/4096 & 1/8192 & 1/16384\\\\\\\\\n",
    "        \\hline\n",
    "        \"\"\")\n",
    "    for l in lines:\n",
    "            print(l)\n",
    "    print(\"\"\"\n",
    "              \\end{tabularx}\n",
    "              \\end{table}\"\"\")\n",
    "    return diff"
   ]
  },
  {
   "cell_type": "code",
   "execution_count": 11,
   "metadata": {},
   "outputs": [
    {
     "name": "stdout",
     "output_type": "stream",
     "text": [
      "\n",
      "        \\begin{table}[H]\n",
      "    \\centering\n",
      "    \\caption{}\n",
      "    \\begin{tabularx}{\\textwidth}{X|X|X|X|X|X|X|X|X}\n",
      "        test name & 1/8 & 1/32 & 1/128 & 1/512 & 1/2048 & 1/4096 & 1/8192 & 1/16384\\\\\n",
      "        \\hline\n",
      "        \n",
      "simlex & 0.36  & 0.153 \\\\\n",
      "\n",
      "rarewords & 0.68  & 0.342 \\\\\n",
      "\n",
      "baker & 0.437  & 0.212 \\\\\n",
      "\n",
      "men-dev & 0.711  & 0.415 \\\\\n",
      "\n",
      "radins & 0.659  & 0.559 \\\\\n",
      "\n",
      "word-sim & 0.724  & 0.535 \\\\\n",
      "\n",
      "yang & 0.444  & 0.24 \\\\\n",
      "\n",
      "men-test & 0.739  & 0.438 \\\\\n",
      "\n",
      "semeval & 0.612  & 0.326 \\\\\n",
      "\n",
      "word-rel & 0.531  & 0.373 \\\\\n",
      "\n",
      "simverb & 0.222  & 0.073 \\\\\n",
      "\n",
      "\n",
      "              \\end{tabularx}\n",
      "              \\end{table}\n"
     ]
    }
   ],
   "source": [
    "scoresd0= print_table('6w-mle')"
   ]
  },
  {
   "cell_type": "code",
   "execution_count": 12,
   "metadata": {},
   "outputs": [
    {
     "name": "stdout",
     "output_type": "stream",
     "text": [
      "\n",
      "        \\begin{table}[H]\n",
      "    \\centering\n",
      "    \\caption{}\n",
      "    \\begin{tabularx}{\\textwidth}{X|X|X|X|X|X|X|X|X}\n",
      "        test name & 1/8 & 1/32 & 1/128 & 1/512 & 1/2048 & 1/4096 & 1/8192 & 1/16384\\\\\n",
      "        \\hline\n",
      "        \n",
      "simlex & 0.365  & 0.153 \\\\\n",
      "\n",
      "rarewords & 0.68  & 0.342 \\\\\n",
      "\n",
      "baker & 0.444  & 0.212 \\\\\n",
      "\n",
      "men-dev & 0.718  & 0.415 \\\\\n",
      "\n",
      "radins & 0.658  & 0.559 \\\\\n",
      "\n",
      "word-sim & 0.732  & 0.535 \\\\\n",
      "\n",
      "yang & 0.445  & 0.24 \\\\\n",
      "\n",
      "men-test & 0.747  & 0.438 \\\\\n",
      "\n",
      "semeval & 0.617  & 0.326 \\\\\n",
      "\n",
      "word-rel & 0.532  & 0.373 \\\\\n",
      "\n",
      "simverb & 0.229  & 0.073 \\\\\n",
      "\n",
      "\n",
      "              \\end{tabularx}\n",
      "              \\end{table}\n"
     ]
    }
   ],
   "source": [
    "scoresd1 = print_table('6w-diff1')"
   ]
  },
  {
   "cell_type": "code",
   "execution_count": 13,
   "metadata": {},
   "outputs": [
    {
     "name": "stdout",
     "output_type": "stream",
     "text": [
      "\n",
      "        \\begin{table}[H]\n",
      "    \\centering\n",
      "    \\caption{}\n",
      "    \\begin{tabularx}{\\textwidth}{X|X|X|X|X|X|X|X|X}\n",
      "        test name & 1/8 & 1/32 & 1/128 & 1/512 & 1/2048 & 1/4096 & 1/8192 & 1/16384\\\\\n",
      "        \\hline\n",
      "        \n",
      "simlex & 0.346  & 0.158 \\\\\n",
      "\n",
      "rarewords & 0.677  & 0.439 \\\\\n",
      "\n",
      "baker & 0.364  & 0.228 \\\\\n",
      "\n",
      "men-dev & 0.725  & 0.494 \\\\\n",
      "\n",
      "radins & 0.669  & 0.586 \\\\\n",
      "\n",
      "word-sim & 0.736  & 0.592 \\\\\n",
      "\n",
      "yang & 0.465  & 0.271 \\\\\n",
      "\n",
      "men-test & 0.747  & 0.503 \\\\\n",
      "\n",
      "semeval & 0.624  & 0.373 \\\\\n",
      "\n",
      "word-rel & 0.545  & 0.389 \\\\\n",
      "\n",
      "simverb & 0.205  & 0.078 \\\\\n",
      "\n",
      "\n",
      "              \\end{tabularx}\n",
      "              \\end{table}\n"
     ]
    }
   ],
   "source": [
    "scoresd2 = print_table('6w-diff2')"
   ]
  },
  {
   "cell_type": "code",
   "execution_count": 14,
   "metadata": {},
   "outputs": [
    {
     "name": "stdout",
     "output_type": "stream",
     "text": [
      "\n",
      "        \\begin{table}[H]\n",
      "    \\centering\n",
      "    \\caption{}\n",
      "    \\begin{tabularx}{\\textwidth}{X|X|X|X|X|X|X|X|X}\n",
      "        test name & 1/8 & 1/32 & 1/128 & 1/512 & 1/2048 & 1/4096 & 1/8192 & 1/16384\\\\\n",
      "        \\hline\n",
      "        \n",
      "simlex & 0.335  & 0.161 \\\\\n",
      "\n",
      "rarewords & 0.662  & 0.451 \\\\\n",
      "\n",
      "baker & 0.338  & 0.277 \\\\\n",
      "\n",
      "men-dev & 0.721  & 0.52 \\\\\n",
      "\n",
      "radins & 0.668  & 0.618 \\\\\n",
      "\n",
      "word-sim & 0.738  & 0.601 \\\\\n",
      "\n",
      "yang & 0.456  & 0.242 \\\\\n",
      "\n",
      "men-test & 0.742  & 0.538 \\\\\n",
      "\n",
      "semeval & 0.619  & 0.37 \\\\\n",
      "\n",
      "word-rel & 0.542  & 0.405 \\\\\n",
      "\n",
      "simverb & 0.192  & 0.083 \\\\\n",
      "\n",
      "\n",
      "              \\end{tabularx}\n",
      "              \\end{table}\n"
     ]
    }
   ],
   "source": [
    "scoresd3 = print_table('6w-diff3')"
   ]
  },
  {
   "cell_type": "code",
   "execution_count": 16,
   "metadata": {},
   "outputs": [
    {
     "data": {
      "text/plain": [
       "array([0.55627273, 0.33327273])"
      ]
     },
     "execution_count": 16,
     "metadata": {},
     "output_type": "execute_result"
    }
   ],
   "source": [
    "np.mean(scoresd0, axis=0)"
   ]
  },
  {
   "cell_type": "code",
   "execution_count": 17,
   "metadata": {},
   "outputs": [
    {
     "data": {
      "text/plain": [
       "array([0.56063636, 0.33327273])"
      ]
     },
     "execution_count": 17,
     "metadata": {},
     "output_type": "execute_result"
    }
   ],
   "source": [
    "np.mean(scoresd1, axis=0)"
   ]
  },
  {
   "cell_type": "code",
   "execution_count": 18,
   "metadata": {},
   "outputs": [
    {
     "data": {
      "text/plain": [
       "array([0.55481818, 0.37372727])"
      ]
     },
     "execution_count": 18,
     "metadata": {},
     "output_type": "execute_result"
    }
   ],
   "source": [
    "np.mean(scoresd2, axis=0)"
   ]
  },
  {
   "cell_type": "code",
   "execution_count": 19,
   "metadata": {},
   "outputs": [
    {
     "data": {
      "text/plain": [
       "array([0.54663636, 0.38781818])"
      ]
     },
     "execution_count": 19,
     "metadata": {},
     "output_type": "execute_result"
    }
   ],
   "source": [
    "np.mean(scoresd3, axis=0)"
   ]
  },
  {
   "cell_type": "code",
   "execution_count": null,
   "metadata": {},
   "outputs": [],
   "source": [
    "np.mean(score)"
   ]
  },
  {
   "cell_type": "code",
   "execution_count": 29,
   "metadata": {},
   "outputs": [
    {
     "name": "stdout",
     "output_type": "stream",
     "text": [
      "\n",
      "        \\begin{table}[H]\n",
      "    \\centering\n",
      "    \\caption{}\n",
      "    \\begin{tabularx}{\\textwidth}{X|X|X|X|X|X|X|X|X}\n",
      "        test name & 1/8 & 1/32 & 1/128 & 1/512 & 1/2048 & 1/4096 & 1/8192 & 1/16384\\\\\n",
      "        \\hline\n",
      "        \n",
      "simlex & 0.353  & 0.133 \\\\\n",
      "\n",
      "rarewords & 0.663  & 0.334 \\\\\n",
      "\n",
      "baker & 0.402  & 0.208 \\\\\n",
      "\n",
      "men-dev & 0.716  & 0.497 \\\\\n",
      "\n",
      "radins & 0.675  & 0.533 \\\\\n",
      "\n",
      "word-sim & 0.715  & 0.533 \\\\\n",
      "\n",
      "yang & 0.443  & 0.411 \\\\\n",
      "\n",
      "men-test & 0.744  & 0.492 \\\\\n",
      "\n",
      "semeval & 0.608  & 0.321 \\\\\n",
      "\n",
      "word-rel & 0.548  & 0.375 \\\\\n",
      "\n",
      "simverb & 0.214  & 0.085 \\\\\n",
      "\n",
      "\n",
      "              \\end{tabularx}\n",
      "              \\end{table}\n"
     ]
    },
    {
     "data": {
      "text/plain": [
       "array([0.55281818, 0.35654545])"
      ]
     },
     "execution_count": 29,
     "metadata": {},
     "output_type": "execute_result"
    }
   ],
   "source": [
    "np.mean(print_table('9w-mle'), axis=0)"
   ]
  },
  {
   "cell_type": "code",
   "execution_count": 43,
   "metadata": {},
   "outputs": [],
   "source": [
    "mle_perc_drop = []\n",
    "for s in mle_scores:\n",
    "    mle_perc_drop.append((s[0] - s[-1])/s[0])"
   ]
  },
  {
   "cell_type": "code",
   "execution_count": 41,
   "metadata": {},
   "outputs": [],
   "source": [
    "diff_dropoff = []\n",
    "for s in diff_scores:\n",
    "    diff_dropoff.append(s[0] - s[-1])"
   ]
  },
  {
   "cell_type": "code",
   "execution_count": 45,
   "metadata": {},
   "outputs": [],
   "source": [
    "diff_perc_drop = []\n",
    "for s in diff_scores:\n",
    "    diff_perc_drop.append((s[0] - s[-1])/s[0])"
   ]
  },
  {
   "cell_type": "code",
   "execution_count": 42,
   "metadata": {},
   "outputs": [
    {
     "data": {
      "text/plain": [
       "[0.06500000000000003,\n",
       " 0.331,\n",
       " 0.15300000000000002,\n",
       " 0.189,\n",
       " 0.15799999999999997,\n",
       " 0.136,\n",
       " 0.063,\n",
       " 0.132,\n",
       " 0.18900000000000006,\n",
       " 0.09700000000000003,\n",
       " 0.063]"
      ]
     },
     "execution_count": 42,
     "metadata": {},
     "output_type": "execute_result"
    }
   ],
   "source": [
    "diff_dropoff"
   ]
  },
  {
   "cell_type": "code",
   "execution_count": 44,
   "metadata": {},
   "outputs": [
    {
     "data": {
      "text/plain": [
       "[0.4261363636363636,\n",
       " 0.4480337078651685,\n",
       " 0.4809523809523809,\n",
       " 0.19160839160839163,\n",
       " 0.20444444444444446,\n",
       " 0.30163043478260865,\n",
       " 0.3835616438356164,\n",
       " 0.20728291316526615,\n",
       " 0.2864493996569468,\n",
       " 0.31660231660231664,\n",
       " 0.5336538461538461]"
      ]
     },
     "execution_count": 44,
     "metadata": {},
     "output_type": "execute_result"
    }
   ],
   "source": [
    "mle_perc_drop"
   ]
  },
  {
   "cell_type": "code",
   "execution_count": 49,
   "metadata": {},
   "outputs": [
    {
     "data": {
      "text/plain": [
       "0.33058829304446175"
      ]
     },
     "execution_count": 49,
     "metadata": {},
     "output_type": "execute_result"
    }
   ],
   "source": [
    "np.mean(diff_perc_drop)"
   ]
  },
  {
   "cell_type": "code",
   "execution_count": 50,
   "metadata": {},
   "outputs": [
    {
     "data": {
      "text/plain": [
       "0.34366871297303186"
      ]
     },
     "execution_count": 50,
     "metadata": {},
     "output_type": "execute_result"
    }
   ],
   "source": [
    "np.mean(mle_perc_drop)"
   ]
  },
  {
   "cell_type": "code",
   "execution_count": 51,
   "metadata": {},
   "outputs": [
    {
     "data": {
      "text/plain": [
       "0.14327272727272725"
      ]
     },
     "execution_count": 51,
     "metadata": {},
     "output_type": "execute_result"
    }
   ],
   "source": [
    "np.mean(diff_dropoff)"
   ]
  },
  {
   "cell_type": "code",
   "execution_count": 52,
   "metadata": {},
   "outputs": [
    {
     "data": {
      "text/plain": [
       "0.17254545454545453"
      ]
     },
     "execution_count": 52,
     "metadata": {},
     "output_type": "execute_result"
    }
   ],
   "source": [
    "np.mean(mle_dropoff)"
   ]
  },
  {
   "cell_type": "code",
   "execution_count": 58,
   "metadata": {},
   "outputs": [],
   "source": [
    "difference = np.array(mle_scores) - np.array(diff_scores)"
   ]
  },
  {
   "cell_type": "code",
   "execution_count": 59,
   "metadata": {},
   "outputs": [
    {
     "data": {
      "image/png": "[encoded data removed]",
      "text/plain": [
       "<Figure size 1080x504 with 1 Axes>"
      ]
     },
     "metadata": {
      "needs_background": "light"
     },
     "output_type": "display_data"
    }
   ],
   "source": [
    "plt.figure(figsize=(15,7))\n",
    "for d in difference:\n",
    "    plt.plot(range(len(d)), d)"
   ]
  },
  {
   "cell_type": "code",
   "execution_count": 64,
   "metadata": {},
   "outputs": [],
   "source": [
    "lines = []\n",
    "for i,d in enumerate(difference):\n",
    "    line = dsnames[i]\n",
    "    for ds in d:\n",
    "        line += \"& \" + str(round(ds, 3)) \n",
    "    lines.append(line + \"\\\\\\\\\")"
   ]
  },
  {
   "cell_type": "code",
   "execution_count": 65,
   "metadata": {},
   "outputs": [
    {
     "name": "stdout",
     "output_type": "stream",
     "text": [
      "simlex999& 0.071& 0.074& 0.037& 0.013& -0.014\\\\\n",
      "rarewords& 0.06& 0.071& 0.069& 0.085& 0.072\\\\\n",
      "bakerverb143& 0.078& 0.087& 0.137& 0.09& 0.029\\\\\n",
      "men_dev& 0.067& 0.066& 0.062& 0.084& 0.119\\\\\n",
      "radinskymturk& 0.052& 0.022& 0.005& 0.048& 0.072\\\\\n",
      "wordsim353_similarity& 0.062& 0.06& 0.024& 0.054& -0.024\\\\\n",
      "yangpowersverb130& 0.125& 0.185& 0.163& 0.193& 0.048\\\\\n",
      "men_test& 0.061& 0.065& 0.053& 0.069& 0.045\\\\\n",
      "semeval17task2_test& 0.034& 0.06& 0.047& 0.038& 0.056\\\\\n",
      "wordsim353_relatedness& 0.132& 0.124& 0.165& 0.127& 0.065\\\\\n",
      "simverb3500& 0.11& 0.105& 0.097& 0.059& 0.062\\\\\n"
     ]
    }
   ],
   "source": [
    "for l in lines:\n",
    "    print(l)"
   ]
  },
  {
   "cell_type": "code",
   "execution_count": null,
   "metadata": {},
   "outputs": [],
   "source": []
  }
 ],
 "metadata": {
  "kernelspec": {
   "display_name": "Python 3",
   "language": "python",
   "name": "python3"
  },
  "language_info": {
   "codemirror_mode": {
    "name": "ipython",
    "version": 3
   },
   "file_extension": ".py",
   "mimetype": "text/x-python",
   "name": "python",
   "nbconvert_exporter": "python",
   "pygments_lexer": "ipython3",
   "version": "3.5.2"
  }
 },
 "nbformat": 4,
 "nbformat_minor": 2
}
